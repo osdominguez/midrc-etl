{
 "cells": [
  {
   "cell_type": "code",
   "execution_count": null,
   "metadata": {},
   "outputs": [],
   "source": [
    "from itertools import chain\n",
    "from pathlib import PosixPath\n",
    "\n",
    "import pandas as pd\n",
    "\n",
    "pd.set_option(\"display.max_colwidth\", None)"
   ]
  },
  {
   "cell_type": "code",
   "execution_count": null,
   "metadata": {},
   "outputs": [],
   "source": [
    "RAW_DATA = PosixPath(\"~/CTDS/projects/midrc/processed-s3/acrimage\").expanduser()\n",
    "\n",
    "# for RemoveHeads files, they have the same structure and needs to remove imaging_study\n",
    "# which is `submitter_id` in the format of\n",
    "# <case>_<study_id>\n",
    "remove_heads_files = RAW_DATA.glob(\"**/RemoveHeads*.txt\")\n",
    "remove_heads_studies = map(lambda v: pd.read_csv(v, sep=\"\\t\"), remove_heads_files)\n",
    "remove_heads_studies = map(lambda v: v[\"submitter_id\"] \\\n",
    "        .str.split(\"_\", expand=True) \\\n",
    "        .rename(columns={0: \"case_id\", 1: \"study_id\"})[[\"study_id\"]],\n",
    "    remove_heads_studies)\n",
    "remove_heads_studies = pd.concat(remove_heads_studies).reset_index(drop=True)\n",
    "\n",
    "# same thing for different format of deletion files\n",
    "# there are two different formats: one for imaging_study and one for images :facepalm:\n",
    "# this needs some column renaming\n",
    "rename_columns = {\n",
    "    \"*type\": \"type\",\n",
    "    \"*submitter_id\": \"submitter_id\",\n",
    "    \"study_uid\": \"study_id\",\n",
    "}\n",
    "\n",
    "deletion_imaging_study_files = RAW_DATA.glob(\"**/deletion_*.tsv\")\n",
    "deletion_imaging_study_studies = map(lambda v: pd.read_csv(v, sep=\"\\t\") \\\n",
    "        .rename(columns=rename_columns),\n",
    "    deletion_imaging_study_files)\n",
    "deletion_imaging_study_studies = map(lambda v: v[[\"study_id\"]], deletion_imaging_study_studies)\n",
    "deletion_imaging_study_studies = pd.concat(deletion_imaging_study_studies).reset_index(drop=True)\n",
    "\n",
    "studies_to_delete = pd.concat([remove_heads_studies, deletion_imaging_study_studies]).reset_index(drop=True)"
   ]
  },
  {
   "cell_type": "code",
   "execution_count": null,
   "metadata": {},
   "outputs": [],
   "source": [
    "removal_files = list(chain(\n",
    "    # RAW_DATA.glob(\"**/deletion_*.tsv\"),\n",
    "    RAW_DATA.glob(\"**/RemoveHeads*.txt\"),\n",
    "))"
   ]
  },
  {
   "cell_type": "code",
   "execution_count": null,
   "metadata": {},
   "outputs": [],
   "source": [
    "for r in removal_files:\n",
    "    print(r)"
   ]
  },
  {
   "cell_type": "code",
   "execution_count": null,
   "metadata": {},
   "outputs": [],
   "source": [
    "removal = pd.concat(map(lambda v: pd.read_csv(v, sep=\"\\t\"), removal_files))[[]]"
   ]
  },
  {
   "cell_type": "code",
   "execution_count": null,
   "metadata": {},
   "outputs": [],
   "source": [
    "indexed_file = \"/Users/andrew/CTDS/projects/midrc/midrc_indexing_scripts/old/indexed/indexing/archive/index_rsna_2021_08/p_acr_2021_06-07_indexing-output-manifest_filenames_correct_filenames.tsv\"\n",
    "deletion_file = \"/Users/andrew/CTDS/projects/midrc/s3-data/raw/acrimage/2021/07/deletion_imaging_study_ACR_202107.tsv\"\n",
    "indexed = pd.read_csv(indexed_file, sep=\"\\t\")\n",
    "deletion = pd.read_csv(deletion_file, sep=\"\\t\")\n",
    "sub_indexed = indexed[[\"guid\", \"file_name\"]].copy()\n",
    "sub_indexed.loc[:, \"file_name\"] = sub_indexed.loc[:, \"file_name\"].apply(lambda v: v.split(\"/\")[-1])\n",
    "sub_deletion = pd.DataFrame(data=deletion[\"storage_urls\"].apply(lambda v: v.strip().split(\"/\")[-1]))\n",
    "sub_deletion.loc[0].values\n",
    "sub_indexed.merge(sub_deletion, left_on=\"file_name\", right_on=\"storage_urls\").to_csv(\"/Users/andrew/Downloads/07.csv\", index=False)"
   ]
  },
  {
   "cell_type": "code",
   "execution_count": null,
   "metadata": {},
   "outputs": [],
   "source": [
    "indexed_file = \"/Users/andrew/CTDS/projects/midrc/midrc_indexing_scripts/old/indexed/indexing/archive/08-0827/indexed_08.tsv\"\n",
    "deletion_file = \"/Users/andrew/CTDS/projects/midrc/s3-data/raw/acrimage/2021/08/deletion_imaging_study_ACR_202108.tsv\"\n",
    "indexed = pd.read_csv(indexed_file, sep=\"\\t\")\n",
    "deletion = pd.read_csv(deletion_file, sep=\"\\t\")\n",
    "sub_indexed = indexed[[\"guid\", \"file_name\"]].copy()\n",
    "sub_indexed.loc[:, \"file_name\"] = sub_indexed.loc[:, \"file_name\"].apply(lambda v: v.split(\"/\")[-1])\n",
    "sub_deletion = pd.DataFrame(data=deletion[\"storage_urls\"].apply(lambda v: v.strip().split(\"/\")[-1]))\n",
    "sub_deletion.loc[0].values\n",
    "sub_indexed.merge(sub_deletion, left_on=\"file_name\", right_on=\"storage_urls\").to_csv(\"/Users/andrew/Downloads/08.csv\", index=False)"
   ]
  },
  {
   "cell_type": "code",
   "execution_count": null,
   "metadata": {},
   "outputs": [],
   "source": [
    "indexed_file = \"/Users/andrew/CTDS/projects/midrc/midrc_indexing_scripts/old/indexed/indexing/acr/indexed_image_20210903.txt\"\n",
    "deletion_file = \"/Users/andrew/CTDS/projects/midrc/s3-data/raw/acrimage/2021/09/RemoveHeadsFrom20210903.txt\"\n",
    "indexed = pd.read_csv(indexed_file, sep=\"\\t\")\n",
    "deletion = pd.read_csv(deletion_file, sep=\"\\t\")\n",
    "sub_indexed = indexed[[\"guid\", \"file_name\"]].copy()\n",
    "sub_indexed.loc[:, \"file_name\"] = sub_indexed.loc[:, \"file_name\"].apply(lambda v: v.split(\"/\")[0])\n",
    "sub_deletion = pd.DataFrame(data=deletion[\"study_uid\"].apply(lambda v: v.strip().split(\"/\")[0]))\n",
    "sub_indexed.merge(sub_deletion, left_on=\"file_name\", right_on=\"study_uid\")\n",
    "sub_indexed.merge(sub_deletion, left_on=\"file_name\", right_on=\"study_uid\").to_csv(\"data/09.csv\", index=False)"
   ]
  },
  {
   "cell_type": "code",
   "execution_count": null,
   "metadata": {},
   "outputs": [],
   "source": [
    "# indexed_file = \"/Users/andrew/CTDS/projects/midrc/indexing-data/old/indexed/01_31_22_23:32:42_bqcnja.log\"\n",
    "deletion_file = \"/Users/andrewprokhorenkov/CTDS/projects/midrc/s3-data/raw/acrimage/2021/10/batch6/RemoveHeadsFrom20210914.txt\"\n",
    "deletion_file_2 = \"/Users/andrewprokhorenkov/CTDS/projects/midrc/s3-data/raw/acrimage/2021/10/deletion_imaging_study_ACR_202110.tsv\"\n",
    "# indexed = pd.read_csv(indexed_file, sep=\"\\t\")\n",
    "deletion = pd.read_csv(deletion_file, sep=\"\\t\")\n",
    "deletion_2 = pd.read_csv(deletion_file_2, sep=\"\\t\")\n",
    "deletion\n",
    "\n",
    "sub_indexed = indexed[[\"guid\", \"file_name\"]].copy()\n",
    "sub_indexed.loc[:, \"file_name\"] = sub_indexed.loc[:, \"file_name\"].apply(lambda v: v.split(\"/\")[1])\n",
    "sub_deletion = pd.DataFrame(data=deletion[\"study_uid\"].apply(lambda v: v.strip().split(\"/\")[0]))\n",
    "sub_deletion_2 = pd.DataFrame(data=deletion_2[\"study_uid\"].apply(lambda v: v.strip().split(\"/\")[0]))\n",
    "sub_deletion_total = pd.concat([sub_deletion, sub_deletion_2])\n",
    "sub_indexed.merge(sub_deletion_total, left_on=\"file_name\", right_on=\"study_uid\")\n",
    "sub_indexed.merge(sub_deletion_total, left_on=\"file_name\", right_on=\"study_uid\").to_csv(\"data/10_batch6_seq.csv\", index=False)"
   ]
  },
  {
   "cell_type": "code",
   "execution_count": null,
   "metadata": {},
   "outputs": [],
   "source": [
    "indexed_file = \"/Users/andrew/CTDS/projects/midrc/midrc_indexing_scripts/old/indexed/02_01_22_15:19:22_fjnhvt.log\"\n",
    "indexed_file_2 = \"/Users/andrew/CTDS/projects/midrc/midrc_indexing_scripts/old/indexed/02_02_22_07:09:30_ethlyx.log\"\n",
    "deletion_file = \"/Users/andrew/CTDS/projects/midrc/s3-data/raw/acrimage/2021/10/batch6/RemoveHeadsFrom20210914.txt\"\n",
    "deletion_file_2 = \"/Users/andrew/CTDS/projects/midrc/s3-data/raw/acrimage/2021/10/deletion_imaging_study_ACR_202110.tsv\"\n",
    "indexed = pd.read_csv(indexed_file, sep=\"\\t\")\n",
    "indexed_2 = pd.read_csv(indexed_file_2, sep=\"\\t\")\n",
    "deletion = pd.read_csv(deletion_file, sep=\"\\t\")\n",
    "deletion_2 = pd.read_csv(deletion_file_2, sep=\"\\t\")\n",
    "sub_indexed = indexed[[\"guid\", \"file_name\"]].copy()\n",
    "sub_indexed.loc[:, \"file_name\"] = sub_indexed.loc[:, \"file_name\"].apply(lambda v: v.split(\"/\")[1])\n",
    "sub_indexed_2 = indexed_2[[\"guid\", \"file_name\"]].copy()\n",
    "sub_indexed_2.loc[:, \"file_name\"] = sub_indexed_2.loc[:, \"file_name\"].apply(lambda v: v.split(\"/\")[1])\n",
    "sub_deletion = pd.DataFrame(data=deletion[\"study_uid\"].apply(lambda v: v.strip().split(\"/\")[0]))\n",
    "sub_deletion_2 = pd.DataFrame(data=deletion_2[\"study_uid\"].apply(lambda v: v.strip().split(\"/\")[0]))\n",
    "sub_indexed_total = pd.concat([sub_indexed, sub_indexed_2])\n",
    "sub_deletion_total = pd.concat([sub_deletion, sub_deletion_2])\n",
    "sub_indexed_total\n",
    "sub_indexed_total.merge(sub_deletion_total, left_on=\"file_name\", right_on=\"study_uid\")\n",
    "sub_indexed_total.merge(sub_deletion_total, left_on=\"file_name\", right_on=\"study_uid\").to_csv(\"data/10_batch6.csv\", index=False)"
   ]
  },
  {
   "cell_type": "code",
   "execution_count": null,
   "metadata": {},
   "outputs": [],
   "source": [
    "indexed_file = \"/Users/andrew/CTDS/projects/midrc/midrc_indexing_scripts/old/indexed/01_04_22_00:02:21_sfqnve.log\"\n",
    "deletion_file = \"/Users/andrew/CTDS/projects/midrc/s3-data/raw/acrimage/2021/10/batch7/RemoveHeadsFrom20210923.txt\"\n",
    "deletion_file_2 = \"/Users/andrew/CTDS/projects/midrc/s3-data/raw/acrimage/2021/10/deletion_imaging_study_ACR_202110.tsv\"\n",
    "indexed = pd.read_csv(indexed_file, sep=\"\\t\")\n",
    "deletion = pd.read_csv(deletion_file, sep=\"\\t\")\n",
    "deletion_2 = pd.read_csv(deletion_file_2, sep=\"\\t\")\n",
    "sub_indexed = indexed[[\"guid\", \"file_name\"]].copy()\n",
    "sub_indexed.loc[:, \"file_name\"] = sub_indexed.loc[:, \"file_name\"].apply(lambda v: v.split(\"/\")[1])\n",
    "sub_deletion = pd.DataFrame(data=deletion[\"study_uid\"].apply(lambda v: v.strip().split(\"/\")[0]))\n",
    "sub_deletion_2 = pd.DataFrame(data=deletion_2[\"study_uid\"].apply(lambda v: v.strip().split(\"/\")[0]))\n",
    "sub_deletion_total = pd.concat([sub_deletion, sub_deletion_2])\n",
    "sub_indexed.merge(sub_deletion_total, left_on=\"file_name\", right_on=\"study_uid\")\n",
    "sub_indexed.merge(sub_deletion_total, left_on=\"file_name\", right_on=\"study_uid\").to_csv(\"data/10_batch7_seq.csv\", index=False)"
   ]
  },
  {
   "cell_type": "code",
   "execution_count": null,
   "metadata": {},
   "outputs": [],
   "source": [
    "indexed_file = \"/Users/andrew/CTDS/projects/midrc/midrc_indexing_scripts/old/indexed/01_04_22_11:45:36_drtraw.log\"\n",
    "indexed_file_2 = \"/Users/andrew/CTDS/projects/midrc/midrc_indexing_scripts/old/indexed/01_05_22_10:11:21_bprxsq.log\"\n",
    "deletion_file = \"/Users/andrew/CTDS/projects/midrc/s3-data/raw/acrimage/2021/10/batch7/RemoveHeadsFrom20210923.txt\"\n",
    "deletion_file_2 = \"/Users/andrew/CTDS/projects/midrc/s3-data/raw/acrimage/2021/10/deletion_imaging_study_ACR_202110.tsv\"\n",
    "indexed = pd.read_csv(indexed_file, sep=\"\\t\")\n",
    "indexed_2 = pd.read_csv(indexed_file_2, sep=\"\\t\")\n",
    "deletion = pd.read_csv(deletion_file, sep=\"\\t\")\n",
    "deletion_2 = pd.read_csv(deletion_file_2, sep=\"\\t\")\n",
    "sub_indexed = indexed[[\"guid\", \"file_name\"]].copy()\n",
    "sub_indexed.loc[:, \"file_name\"] = sub_indexed.loc[:, \"file_name\"].apply(lambda v: v.split(\"/\")[1])\n",
    "sub_indexed_2 = indexed_2[[\"guid\", \"file_name\"]].copy()\n",
    "sub_indexed_2.loc[:, \"file_name\"] = sub_indexed_2.loc[:, \"file_name\"].apply(lambda v: v.split(\"/\")[1])\n",
    "sub_deletion = pd.DataFrame(data=deletion[\"study_uid\"].apply(lambda v: v.strip().split(\"/\")[0]))\n",
    "sub_deletion_2 = pd.DataFrame(data=deletion_2[\"study_uid\"].apply(lambda v: v.strip().split(\"/\")[0]))\n",
    "sub_indexed_total = pd.concat([sub_indexed, sub_indexed_2])\n",
    "sub_deletion_total = pd.concat([sub_deletion, sub_deletion_2])\n",
    "sub_indexed_total.merge(sub_deletion_total, left_on=\"file_name\", right_on=\"study_uid\")\n",
    "sub_indexed_total.merge(sub_deletion_total, left_on=\"file_name\", right_on=\"study_uid\").to_csv(\"data/10_batch7.csv\", index=False)"
   ]
  },
  {
   "cell_type": "code",
   "execution_count": null,
   "metadata": {},
   "outputs": [],
   "source": [
    "indexed_file = \"/Users/andrew/CTDS/projects/midrc/midrc_indexing_scripts/old/indexed/indexing/acr/indexed_image_20210903.txt\"\n",
    "deletion_file = \"/Users/andrew/CTDS/projects/midrc/s3-data/raw/acrimage/2021/11/RemoveHeadsFrom20211004.txt\"\n",
    "indexed = pd.read_csv(indexed_file, sep=\"\\t\")\n",
    "deletion = pd.read_csv(deletion_file, sep=\"\\t\")\n",
    "sub_indexed = indexed[[\"guid\", \"file_name\"]].copy()\n",
    "sub_indexed.loc[:, \"file_name\"] = sub_indexed.loc[:, \"file_name\"].apply(lambda v: v.split(\"/\")[0])\n",
    "sub_deletion = pd.DataFrame(data=deletion[\"study_uid\"].apply(lambda v: v.strip().split(\"/\")[0]))\n",
    "sub_indexed.merge(sub_deletion, left_on=\"file_name\", right_on=\"study_uid\")\n",
    "sub_indexed.merge(sub_deletion, left_on=\"file_name\", right_on=\"study_uid\").to_csv(\"data/09.csv\", index=False)"
   ]
  }
 ],
 "metadata": {
  "interpreter": {
   "hash": "d5c72d1243d6df0c85fac95eab025b92ad6f1709943deea63d571be8293a3eb7"
  },
  "kernelspec": {
   "display_name": "Python 3.10.3 64-bit ('midrc-etl')",
   "language": "python",
   "name": "python3"
  },
  "language_info": {
   "codemirror_mode": {
    "name": "ipython",
    "version": 3
   },
   "file_extension": ".py",
   "mimetype": "text/x-python",
   "name": "python",
   "nbconvert_exporter": "python",
   "pygments_lexer": "ipython3",
   "version": "3.10.3"
  },
  "orig_nbformat": 4
 },
 "nbformat": 4,
 "nbformat_minor": 2
}
