{
 "cells": [
  {
   "cell_type": "code",
   "execution_count": null,
   "metadata": {},
   "outputs": [],
   "source": [
    "import csv\n",
    "import json\n",
    "import sys\n",
    "from pathlib import PosixPath\n",
    "import pandas as pd"
   ]
  },
  {
   "cell_type": "code",
   "execution_count": null,
   "metadata": {},
   "outputs": [],
   "source": [
    "sequestration_master_file_path = PosixPath(\n",
    "    \"~/CTDS/projects/midrc/indexing-data/sequestration/master_sequestration_locations_23333_2022-06-28.tsv\"\n",
    ").expanduser()\n",
    "\n",
    "packages_acr = PosixPath(\"/Users/andrewprokhorenkov/CTDS/projects/midrc/indexing-data/done_packages_acr\")\n",
    "packages_acr = list(packages_acr.glob(\"**/*.tsv\"))\n",
    "\n",
    "packages_rsna = PosixPath(\"/Users/andrewprokhorenkov/CTDS/projects/midrc/indexing-data/done_packages_rsna\")\n",
    "packages_rsna = list(packages_rsna.glob(\"**/*.tsv\"))"
   ]
  },
  {
   "cell_type": "code",
   "execution_count": null,
   "metadata": {},
   "outputs": [],
   "source": [
    "seq_master = {}\n",
    "with open(sequestration_master_file_path) as sequestration_master_file:\n",
    "    reader = csv.DictReader(sequestration_master_file, delimiter=\"\\t\")\n",
    "\n",
    "    for row in reader:\n",
    "        seq_master[row[\"case_ids\"]] = row[\"dataset\"]"
   ]
  },
  {
   "cell_type": "code",
   "execution_count": null,
   "metadata": {},
   "outputs": [],
   "source": [
    "files = []\n",
    "\n",
    "# for package in packages_acr:\n",
    "for package in packages_rsna:\n",
    "    case_id = package.parts[-3]\n",
    "    dataset = seq_master.get(case_id, None)\n",
    "    \n",
    "    if dataset == \"Open\":\n",
    "        print(case_id)\n",
    "        data = pd.read_csv(package, sep=\"\\t\")\n",
    "\n",
    "        urls = data[\"storage_urls\"]\n",
    "        urls = urls.apply(lambda v: v.replace(\"s3://storage.ir.rsna.ai\", \"\"))\n",
    "        urls = urls.apply(lambda v: v.replace(\"//\", \"replicated-data-acr/\"))\n",
    "\n",
    "        files.extend(urls.to_list())\n",
    "    # break"
   ]
  },
  {
   "cell_type": "code",
   "execution_count": null,
   "metadata": {},
   "outputs": [],
   "source": [
    "len(files)"
   ]
  },
  {
   "cell_type": "code",
   "execution_count": null,
   "metadata": {},
   "outputs": [],
   "source": [
    "files2 = map(lambda v: v + \"\\n\", files)\n",
    "with open(\"list_of_open_acr.txt\", \"w\") as f:\n",
    "    f.writelines(files2)"
   ]
  }
 ],
 "metadata": {
  "kernelspec": {
   "display_name": "Python 3.10.5 64-bit ('midrc-etl')",
   "language": "python",
   "name": "python3"
  },
  "language_info": {
   "codemirror_mode": {
    "name": "ipython",
    "version": 3
   },
   "file_extension": ".py",
   "mimetype": "text/x-python",
   "name": "python",
   "nbconvert_exporter": "python",
   "pygments_lexer": "ipython3",
   "version": "3.10.5"
  },
  "orig_nbformat": 4,
  "vscode": {
   "interpreter": {
    "hash": "ea16ea1e58fe2ee246f64da345d780c15cc646495260e4ce14409c0c689d3e2c"
   }
  }
 },
 "nbformat": 4,
 "nbformat_minor": 2
}
