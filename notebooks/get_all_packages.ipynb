{
 "cells": [
  {
   "cell_type": "code",
   "execution_count": 2,
   "metadata": {},
   "outputs": [],
   "source": [
    "from pathlib import Path\n",
    "\n",
    "import pandas as pd\n",
    "\n",
    "indexed_acr = Path(\"/Users/andrewprokhorenkov/CTDS/projects/midrc/indexing-data/indexed_packages_acr\")\n",
    "open_indexed = list(indexed_acr.glob(\"**/*open*.tsv\"))\n",
    "seq_indexed = list(indexed_acr.glob(\"**/*seq*.tsv\"))\n",
    "open_manifests = list(map(lambda v: pd.read_csv(v, sep=\"\\t\"), open_indexed))\n",
    "seq_manifests = list(map(lambda v: pd.read_csv(v, sep=\"\\t\"), seq_indexed))\n",
    "open_urls = pd.concat(list(map(lambda v: v.urls, open_manifests)))\n",
    "seq_urls = pd.concat(list(map(lambda v: v.urls, seq_manifests)))\n",
    "open_urls.to_csv(\"~/Downloads/move_open.csv\", index=False, header=False)\n",
    "seq_urls.to_csv(\"~/Downloads/move_seq.csv\", index=False, header=False)"
   ]
  }
 ],
 "metadata": {
  "kernelspec": {
   "display_name": "Python 3.10.4 64-bit ('main')",
   "language": "python",
   "name": "python3"
  },
  "language_info": {
   "codemirror_mode": {
    "name": "ipython",
    "version": 3
   },
   "file_extension": ".py",
   "mimetype": "text/x-python",
   "name": "python",
   "nbconvert_exporter": "python",
   "pygments_lexer": "ipython3",
   "version": "3.10.4"
  },
  "orig_nbformat": 4,
  "vscode": {
   "interpreter": {
    "hash": "868b6f95f8a89b92223df60118f35e6d1093d86a88199d026282c847e987351d"
   }
  }
 },
 "nbformat": 4,
 "nbformat_minor": 2
}
