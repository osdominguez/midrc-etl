{
 "cells": [
  {
   "cell_type": "code",
   "execution_count": null,
   "metadata": {},
   "outputs": [],
   "source": [
    "import json\n",
    "import csv\n",
    "import gzip\n",
    "import sys\n",
    "from pathlib import Path"
   ]
  },
  {
   "cell_type": "code",
   "execution_count": null,
   "metadata": {},
   "outputs": [],
   "source": [
    "PATH = Path(\"./inventory/external-data-midrc-replication/external-data-midrc-replication-inventory-configuration/\")\n",
    "PATH = PATH / \"2022-06-26T00-00Z\" / \"manifest.json\""
   ]
  },
  {
   "cell_type": "code",
   "execution_count": null,
   "metadata": {},
   "outputs": [],
   "source": [
    "with open(PATH) as manifest_data:\n",
    "    manifest = json.load(manifest_data)"
   ]
  },
  {
   "cell_type": "code",
   "execution_count": null,
   "metadata": {},
   "outputs": [],
   "source": [
    "tsvs = []\n",
    "\n",
    "for obj in manifest['files']:\n",
    "    print(obj)\n",
    "    gzip_obj = f\"inventory/{obj['key']}\"\n",
    "    buffer = gzip.open(gzip_obj, mode='rt')\n",
    "    reader = csv.reader(buffer)\n",
    "    for row in reader:\n",
    "        filename = row[1]\n",
    "        if filename[-4:] == \".tsv\":\n",
    "            tsvs.append(filename)"
   ]
  },
  {
   "cell_type": "code",
   "execution_count": null,
   "metadata": {},
   "outputs": [],
   "source": [
    "with open(\"./download.txt\", \"w\") as download:\n",
    "    for tsv in tsvs:\n",
    "        download.write(tsv)\n",
    "        download.write(\"\\n\")"
   ]
  }
 ],
 "metadata": {
  "kernelspec": {
   "display_name": "Python 3.10.4 64-bit ('main')",
   "language": "python",
   "name": "python3"
  },
  "language_info": {
   "codemirror_mode": {
    "name": "ipython",
    "version": 3
   },
   "file_extension": ".py",
   "mimetype": "text/x-python",
   "name": "python",
   "nbconvert_exporter": "python",
   "pygments_lexer": "ipython3",
   "version": "3.10.4"
  },
  "orig_nbformat": 4,
  "vscode": {
   "interpreter": {
    "hash": "868b6f95f8a89b92223df60118f35e6d1093d86a88199d026282c847e987351d"
   }
  }
 },
 "nbformat": 4,
 "nbformat_minor": 2
}
