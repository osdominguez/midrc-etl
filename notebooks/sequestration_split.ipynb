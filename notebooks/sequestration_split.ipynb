{
 "cells": [
  {
   "cell_type": "code",
   "execution_count": null,
   "metadata": {},
   "outputs": [],
   "source": [
    "import csv\n",
    "import json\n",
    "import sys\n",
    "\n",
    "csv.field_size_limit(sys.maxsize)\n",
    "\n",
    "from pathlib import Path"
   ]
  },
  {
   "cell_type": "code",
   "execution_count": null,
   "metadata": {},
   "outputs": [],
   "source": [
    "submission = \"packages_midrc-ricord-2021-10-26\"\n",
    "submission_path = Path(\"/Users/andrewprokhorenkov/CTDS/projects/midrc/midrc_indexing_scripts\")\n",
    "submission_path = submission_path / submission\n",
    "sequestration_master_file_path = \"/Users/andrewprokhorenkov/CTDS/projects/midrc/midrc_indexing_scripts/sequestration/master_sequestration_locations_10162_2022-03-18.tsv\""
   ]
  },
  {
   "cell_type": "code",
   "execution_count": null,
   "metadata": {},
   "outputs": [],
   "source": [
    "seq_master = {}\n",
    "with open(sequestration_master_file_path) as sequestration_master_file:\n",
    "    reader = csv.DictReader(sequestration_master_file, delimiter=\"\\t\")\n",
    "\n",
    "    for row in reader:\n",
    "        seq_master[row[\"case_ids\"]] = row[\"dataset\"]"
   ]
  },
  {
   "cell_type": "code",
   "execution_count": null,
   "metadata": {},
   "outputs": [],
   "source": [
    "package_files = submission_path / \"packages\""
   ]
  },
  {
   "cell_type": "code",
   "execution_count": null,
   "metadata": {},
   "outputs": [],
   "source": [
    "def process_package():\n",
    "    pass"
   ]
  },
  {
   "cell_type": "code",
   "execution_count": null,
   "metadata": {},
   "outputs": [],
   "source": [
    "open_packages = []\n",
    "seq_packages = []\n",
    "for package_filepath in package_files.iterdir():\n",
    "    with open(package_filepath) as package_file:\n",
    "        reader = csv.DictReader(package_file, delimiter=\"\\t\")\n",
    "        for row in reader:\n",
    "            item = row\n",
    "\n",
    "            file_name = item[\"file_name\"]\n",
    "            case_id = file_name.split(\"/\")[0]\n",
    "            dataset = seq_master[case_id]\n",
    "\n",
    "            if dataset == \"Open\":\n",
    "                bucket = \"open-data-midrc\"\n",
    "                authz = json.dumps([\"/programs/Open/projects/R1\"])\n",
    "            elif dataset == \"Seq\":\n",
    "                bucket = \"sequestered-data-midrc\"\n",
    "                authz = json.dumps([\"/programs/SEQ_Open/projects/R3\"])\n",
    "            else:\n",
    "                print(\"!\")\n",
    "            item[\"authz\"] = authz\n",
    "            item[\"url\"] = f\"s3://{bucket}/{item['url']}\"\n",
    "\n",
    "            package_contents = json.loads(item[\"package_contents\"].replace(\"'\", \"\\\"\"))\n",
    "            for p in package_contents:\n",
    "                p[\"size\"] = int(p[\"size\"])\n",
    "            \n",
    "            item[\"package_contents\"] = json.dumps(package_contents)\n",
    "\n",
    "            if dataset == \"Open\":\n",
    "                open_packages.append(item)\n",
    "            elif dataset == \"Seq\":\n",
    "                seq_packages.append(item)\n",
    "            else:\n",
    "                pass"
   ]
  },
  {
   "cell_type": "code",
   "execution_count": null,
   "metadata": {},
   "outputs": [],
   "source": [
    "with open(submission_path / f\"packages_open_{submission.split('_')[1]}.tsv\", \"w\") as f:\n",
    "    fieldnames = [\n",
    "        \"record_type\",\n",
    "        \"guid\",\n",
    "        \"md5\",\n",
    "        \"size\",\n",
    "        \"authz\",\n",
    "        \"url\",\n",
    "        \"file_name\",\n",
    "        \"package_contents\",\n",
    "    ]\n",
    "    writer = csv.DictWriter(f, delimiter=\"\\t\", fieldnames=fieldnames)\n",
    "    writer.writeheader()\n",
    "\n",
    "    for item in open_packages:\n",
    "        writer.writerow(item)\n",
    "\n",
    "with open(submission_path / f\"packages_seq_{submission.split('_')[1]}.tsv\", \"w\") as f:\n",
    "    fieldnames = [\n",
    "        \"record_type\",\n",
    "        \"guid\",\n",
    "        \"md5\",\n",
    "        \"size\",\n",
    "        \"authz\",\n",
    "        \"url\",\n",
    "        \"file_name\",\n",
    "        \"package_contents\",\n",
    "    ]\n",
    "    writer = csv.DictWriter(f, delimiter=\"\\t\", fieldnames=fieldnames)\n",
    "    writer.writeheader()\n",
    "\n",
    "    for item in seq_packages:\n",
    "        writer.writerow(item)"
   ]
  }
 ],
 "metadata": {
  "interpreter": {
   "hash": "4788fb3d406e5627ce93ce2328ec2a20d72350bcb84a0da657cf44b605da6122"
  },
  "kernelspec": {
   "display_name": "Python 3.10.3 ('.venv': poetry)",
   "language": "python",
   "name": "python3"
  },
  "language_info": {
   "codemirror_mode": {
    "name": "ipython",
    "version": 3
   },
   "file_extension": ".py",
   "mimetype": "text/x-python",
   "name": "python",
   "nbconvert_exporter": "python",
   "pygments_lexer": "ipython3",
   "version": "3.10.3"
  },
  "orig_nbformat": 4
 },
 "nbformat": 4,
 "nbformat_minor": 2
}
