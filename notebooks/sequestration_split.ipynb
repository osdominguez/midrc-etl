{
 "cells": [
  {
   "cell_type": "code",
   "execution_count": null,
   "metadata": {},
   "outputs": [],
   "source": [
    "import csv\n",
    "import json\n",
    "import sys\n",
    "\n",
    "csv.field_size_limit(sys.maxsize)\n",
    "\n",
    "from pathlib import Path"
   ]
  },
  {
   "cell_type": "code",
   "execution_count": null,
   "metadata": {},
   "outputs": [],
   "source": [
    "# submission = \"packages_RSNA_20211117\" # done\n",
    "# submission = \"packages_RSNA_20211214\" # partially done, indexed\n",
    "# submission = \"packages_RSNA_20220105\" # partially done, indexed\n",
    "# submission = \"packages_RSNA_20220114\" # partially done, indexed\n",
    "# submission = \"packages_RSNA_20220124\" # partially done, indexed\n",
    "# submission = \"packages_RSNA_20220211\" # partially done, indexed\n",
    "submission = \"packages_RSNA_20220214\" # partially done, indexed\n",
    "# submission = \"packages_midrc-ricord-2021-08-20\" # todo\n",
    "# submission = \"packages_midrc-ricord-2021-09-02\" # done\n",
    "# submission = \"packages_midrc-ricord-2021-09-22\" # done\n",
    "# submission = \"packages_midrc-ricord-2021-10-06\" # done\n",
    "# submission = \"packages_midrc-ricord-2021-10-26\" # done\n",
    "submission_path = Path(\"/Users/andrewprokhorenkov/CTDS/projects/midrc/midrc_indexing_scripts/packages_rsna\")\n",
    "submission_path = submission_path / submission\n",
    "package_files = submission_path / \"packages\"\n",
    "sequestration_master_file_path = \"/Users/andrewprokhorenkov/CTDS/projects/midrc/midrc_indexing_scripts/sequestration/master_sequestration_locations_10162_2022-03-18.tsv\""
   ]
  },
  {
   "cell_type": "code",
   "execution_count": null,
   "metadata": {},
   "outputs": [],
   "source": [
    "seq_master = {}\n",
    "with open(sequestration_master_file_path) as sequestration_master_file:\n",
    "    reader = csv.DictReader(sequestration_master_file, delimiter=\"\\t\")\n",
    "\n",
    "    for row in reader:\n",
    "        seq_master[row[\"case_ids\"]] = row[\"dataset\"]"
   ]
  },
  {
   "cell_type": "code",
   "execution_count": null,
   "metadata": {},
   "outputs": [],
   "source": [
    "open_packages = []\n",
    "seq_packages = []\n",
    "missing_packages = []\n",
    "\n",
    "for package_filepath in package_files.iterdir():\n",
    "    with open(package_filepath) as package_file:\n",
    "        reader = csv.DictReader(package_file, delimiter=\"\\t\")\n",
    "        for row in reader:\n",
    "            item = row\n",
    "\n",
    "            file_name = item[\"file_name\"]\n",
    "            case_id = file_name.split(\"/\")[0]\n",
    "\n",
    "            package_contents = json.loads(item[\"package_contents\"].replace(\"'\", \"\\\"\"))\n",
    "            for p in package_contents:\n",
    "                p[\"size\"] = int(p[\"size\"])\n",
    "            \n",
    "            item[\"package_contents\"] = json.dumps(package_contents)\n",
    "\n",
    "            # if case_id not in seq_master:\n",
    "            #     continue\n",
    "\n",
    "            dataset = seq_master.get(case_id, None)\n",
    "\n",
    "            if dataset == \"Open\":\n",
    "                bucket = \"s3://open-data-midrc/\"\n",
    "                authz = json.dumps([\"/programs/Open/projects/R1\"])\n",
    "            elif dataset == \"Seq\":\n",
    "                bucket = \"s3://sequestered-data-midrc/\"\n",
    "                authz = json.dumps([\"/programs/SEQ_Open/projects/R3\"])\n",
    "            else:\n",
    "                authz = \"\"\n",
    "                bucket = \"\"\n",
    "\n",
    "            item[\"authz\"] = authz\n",
    "            item[\"url\"] = f\"{bucket}{item['url']}\"\n",
    "\n",
    "            if dataset == \"Open\":\n",
    "                open_packages.append(item)\n",
    "            elif dataset == \"Seq\":\n",
    "                seq_packages.append(item)\n",
    "            else:\n",
    "                missing_packages.append(item)"
   ]
  },
  {
   "cell_type": "code",
   "execution_count": null,
   "metadata": {},
   "outputs": [],
   "source": [
    "datasets = [\n",
    "    (f\"packages_open_{submission.removeprefix('packages_')}.tsv\", open_packages),\n",
    "    (f\"packages_seq_{submission.removeprefix('packages_')}.tsv\", seq_packages),\n",
    "    (f\"packages_missing_{submission.removeprefix('packages_')}.tsv\", missing_packages),\n",
    "]\n",
    "\n",
    "fieldnames = [\n",
    "    \"record_type\",\n",
    "    \"guid\",\n",
    "    \"md5\",\n",
    "    \"size\",\n",
    "    \"authz\",\n",
    "    \"url\",\n",
    "    \"file_name\",\n",
    "    \"package_contents\",\n",
    "]\n",
    "\n",
    "for filename, dataset in datasets:\n",
    "    with open(\n",
    "        submission_path / filename,\n",
    "        \"w\",\n",
    "    ) as f:\n",
    "        writer = csv.DictWriter(f, delimiter=\"\\t\", fieldnames=fieldnames)\n",
    "        writer.writeheader()\n",
    "\n",
    "        for item in dataset:\n",
    "            writer.writerow(item)"
   ]
  }
 ],
 "metadata": {
  "interpreter": {
   "hash": "4788fb3d406e5627ce93ce2328ec2a20d72350bcb84a0da657cf44b605da6122"
  },
  "kernelspec": {
   "display_name": "Python 3.10.3 ('.venv': poetry)",
   "language": "python",
   "name": "python3"
  },
  "language_info": {
   "codemirror_mode": {
    "name": "ipython",
    "version": 3
   },
   "file_extension": ".py",
   "mimetype": "text/x-python",
   "name": "python",
   "nbconvert_exporter": "python",
   "pygments_lexer": "ipython3",
   "version": "3.10.3"
  },
  "orig_nbformat": 4
 },
 "nbformat": 4,
 "nbformat_minor": 2
}
