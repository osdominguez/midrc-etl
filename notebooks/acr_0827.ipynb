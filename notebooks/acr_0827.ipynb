{
 "cells": [
  {
   "cell_type": "code",
   "execution_count": 1,
   "metadata": {},
   "outputs": [],
   "source": [
    "import csv\n",
    "from itertools import chain\n",
    "import locale\n",
    "\n",
    "locale.setlocale(locale.LC_ALL, \"en_US.UTF-8\")\n",
    "import re\n",
    "from pathlib import Path\n",
    "\n",
    "import numpy as np\n",
    "import pandas as pd\n",
    "\n",
    "pd.set_option(\"display.max_colwidth\", None)"
   ]
  },
  {
   "cell_type": "code",
   "execution_count": 2,
   "metadata": {},
   "outputs": [],
   "source": [
    "PACKAGES_PATH = Path(\n",
    "    f\"/Users/andrewprokhorenkov/CTDS/projects/midrc/indexing-data/packages_acr/packages_acrimage/PETAL\"\n",
    ")\n",
    "PACKAGES_PATH.mkdir(parents=True, exist_ok=True)"
   ]
  },
  {
   "cell_type": "code",
   "execution_count": 3,
   "metadata": {},
   "outputs": [],
   "source": [
    "rename_columns = {\n",
    "    \"case_ids\": \"case_id\",\n",
    "    \"series_uid\": \"series_id\",\n",
    "    \"study_uid\": \"study_id\",\n",
    "    \"instance_uid\": \"instance_id\",\n",
    "}\n",
    "instances = pd.read_csv(\"./Open-A1_PETAL_REDCORAL_packaging_manifest.tsv\", sep=\"\\t\").rename(columns=rename_columns)"
   ]
  },
  {
   "cell_type": "code",
   "execution_count": 5,
   "metadata": {},
   "outputs": [],
   "source": [
    "list_of_packages = []\n",
    "\n",
    "for i, row in instances.iterrows():\n",
    "    case_id = row[\"case_id\"]\n",
    "    study_id = row[\"study_id\"]\n",
    "    series_id = row[\"series_id\"]\n",
    "\n",
    "    series_path = f\"./cases/{case_id}/{study_id}/{series_id}.tsv\\n\"\n",
    "    if series_path not in list_of_packages:\n",
    "        list_of_packages.append(series_path)\n",
    "\n",
    "    # print(f\"{case_id} / {study_id}\")\n",
    "\n",
    "    folder = PACKAGES_PATH / \"cases\" / case_id / study_id\n",
    "\n",
    "    folder.mkdir(parents=True, exist_ok=True)\n",
    "\n",
    "    series_file = folder / f\"{series_id}.tsv\"\n",
    "    series_file_exist = series_file.exists()\n",
    "\n",
    "    with open(series_file, mode=\"a\") as f:\n",
    "        fieldnames = [\n",
    "            \"file_name\",\n",
    "            \"file_size\",\n",
    "            \"md5sum\",\n",
    "            \"case_id\",\n",
    "            \"study_id\",\n",
    "            \"series_id\",\n",
    "            \"instance_id\",\n",
    "            \"storage_urls\",\n",
    "        ]\n",
    "        writer = csv.DictWriter(f, delimiter=\"\\t\", fieldnames=fieldnames)\n",
    "\n",
    "        if not series_file_exist:\n",
    "            writer.writeheader()\n",
    "        \n",
    "        to_write = row.to_dict()\n",
    "        # del to_write[\"object_id\"]\n",
    "        writer.writerow(to_write)\n",
    "\n",
    "with open(PACKAGES_PATH / \"packages.txt\", \"w\") as f:\n",
    "    f.writelines(list_of_packages)"
   ]
  }
 ],
 "metadata": {
  "interpreter": {
   "hash": "d5c72d1243d6df0c85fac95eab025b92ad6f1709943deea63d571be8293a3eb7"
  },
  "kernelspec": {
   "display_name": "Python 3.10.3 64-bit ('midrc-etl')",
   "language": "python",
   "name": "python3"
  },
  "language_info": {
   "codemirror_mode": {
    "name": "ipython",
    "version": 3
   },
   "file_extension": ".py",
   "mimetype": "text/x-python",
   "name": "python",
   "nbconvert_exporter": "python",
   "pygments_lexer": "ipython3",
   "version": "3.10.3"
  },
  "orig_nbformat": 4
 },
 "nbformat": 4,
 "nbformat_minor": 2
}
