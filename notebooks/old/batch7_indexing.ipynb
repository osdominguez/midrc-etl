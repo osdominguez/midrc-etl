{
 "cells": [
  {
   "cell_type": "code",
   "execution_count": null,
   "metadata": {},
   "outputs": [],
   "source": [
    "from pathlib import Path\n",
    "\n",
    "import pandas as pd\n",
    "DATA_DIR = Path(\"/Users/andrew/CTDS/misc-projects/midrc/s3-data/raw/acrimage/2021/10/batch7/manifest/\")\n",
    "batch7a = pd.read_csv(DATA_DIR.joinpath(\"image_202110_batch7a.txt\"), sep=\"\\t\")\n",
    "batch7a\n",
    "case_id = batch7a[\"submitter_id\"].apply(lambda v: v.split(\"_\")[0])\n",
    "series_id = batch7a[\"series.submitter_id\"].apply(lambda v: v.split(\"_\")[1])\n",
    "batch7a[\"storage_urls\"].apply(lambda v: v.split(\"/\")[6])"
   ]
  }
 ],
 "metadata": {
  "interpreter": {
   "hash": "48f711a9de202a538bb8007b28c346b9e106ccc6bcdbf7ef149059e83dd68df5"
  },
  "kernelspec": {
   "display_name": "Python 3.10.0 64-bit ('main': pyenv)",
   "language": "python",
   "name": "python3"
  },
  "language_info": {
   "codemirror_mode": {
    "name": "ipython",
    "version": 3
   },
   "file_extension": ".py",
   "mimetype": "text/x-python",
   "name": "python",
   "nbconvert_exporter": "python",
   "pygments_lexer": "ipython3",
   "version": "3.10.0"
  },
  "orig_nbformat": 4
 },
 "nbformat": 4,
 "nbformat_minor": 2
}
