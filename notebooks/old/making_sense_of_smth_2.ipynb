{
 "cells": [
  {
   "cell_type": "code",
   "execution_count": null,
   "metadata": {},
   "outputs": [],
   "source": [
    "import pandas as pd"
   ]
  },
  {
   "cell_type": "code",
   "execution_count": null,
   "metadata": {},
   "outputs": [],
   "source": [
    "dir_path = \"./s3-data/rsna/midrc-ricord-2021-10-26/\"\n",
    "imaging_data_manifest_file = dir_path + \"imaging_data_manifest_2021_10_28.tsv\"\n",
    "\n",
    "other_files = [\"midrc_cr_instance_419639-2021-10-29.tsv\",\n",
    "\"midrc_ct_instance_419639-2021-10-29.tsv\",\n",
    "\"midrc_mr_instance_419639-2021-10-29.tsv\",\n",
    "\"midrc_dx_instance_419639-2021-10-29.tsv\",]"
   ]
  },
  {
   "cell_type": "code",
   "execution_count": null,
   "metadata": {},
   "outputs": [],
   "source": [
    "dir_path = \"./s3-data/rsna/midrc-ricord-2021-10-06/\"\n",
    "imaging_data_manifest_file = dir_path + \"imaging_data_manifest_2021_10_08.tsv\"\n",
    "\n",
    "other_files = [\"midrc_ct_instance_419639-2021-10-13.tsv\",\n",
    "\"midrc_cr_instance_419639-2021-10-13.tsv\",\n",
    "\"midrc_dx_instance_419639-2021-10-13.tsv\",]"
   ]
  },
  {
   "cell_type": "code",
   "execution_count": null,
   "metadata": {},
   "outputs": [],
   "source": [
    "imaging_data_manifest = pd.read_csv(imaging_data_manifest_file, sep=\"\\t\").reset_index(drop=True)\n",
    "instances = []\n",
    "\n",
    "for f in other_files:\n",
    "    data = pd.read_csv(dir_path + f, sep=\"\\t\")\n",
    "    instances.append(data)"
   ]
  },
  {
   "cell_type": "code",
   "execution_count": null,
   "metadata": {},
   "outputs": [],
   "source": [
    "files = pd.concat(instances).sort_values(by=\"file_name\").reset_index(drop=True)"
   ]
  },
  {
   "cell_type": "code",
   "execution_count": null,
   "metadata": {},
   "outputs": [],
   "source": [
    "seq = pd.read_csv(\"./sequestered-data-split/seq_rsna_uniq.txt\")"
   ]
  },
  {
   "cell_type": "code",
   "execution_count": null,
   "metadata": {},
   "outputs": [],
   "source": [
    "move_files = imaging_data_manifest.merge(files, on=\"file_name\")[[\"file_name\", \"case_ids\", \"storage_urls_x\"]]"
   ]
  },
  {
   "cell_type": "code",
   "execution_count": null,
   "metadata": {},
   "outputs": [],
   "source": [
    "move_files.merge(seq, on=\"case_ids\").to_csv(\"./move2.tsv\", sep=\"\\t\", index=None)"
   ]
  },
  {
   "cell_type": "code",
   "execution_count": null,
   "metadata": {},
   "outputs": [],
   "source": [
    "leftover = pd.merge(files.file_name, imaging_data_manifest.file_name, how='right', indicator=True)\n",
    "\n",
    "leftover[leftover['_merge'] == 'right_only'][\"file_name\"]"
   ]
  }
 ],
 "metadata": {
  "interpreter": {
   "hash": "48f711a9de202a538bb8007b28c346b9e106ccc6bcdbf7ef149059e83dd68df5"
  },
  "kernelspec": {
   "display_name": "Python 3.10.0 64-bit ('main': pyenv)",
   "language": "python",
   "name": "python3"
  },
  "language_info": {
   "codemirror_mode": {
    "name": "ipython",
    "version": 3
   },
   "file_extension": ".py",
   "mimetype": "text/x-python",
   "name": "python",
   "nbconvert_exporter": "python",
   "pygments_lexer": "ipython3",
   "version": "3.10.0"
  },
  "orig_nbformat": 4
 },
 "nbformat": 4,
 "nbformat_minor": 2
}
