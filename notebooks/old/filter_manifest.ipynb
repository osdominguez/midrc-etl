{
 "cells": [
  {
   "cell_type": "code",
   "execution_count": 1,
   "metadata": {},
   "outputs": [],
   "source": [
    "from pathlib import Path\n",
    "\n",
    "import pandas as pd"
   ]
  },
  {
   "cell_type": "code",
   "execution_count": 2,
   "metadata": {},
   "outputs": [],
   "source": [
    "def get_storage_url(s3bucket: str, storage_url: str) -> str:\n",
    "    storage_url = storage_url.removeprefix(\"s3://storage.ir.rsna.ai/\")\n",
    "    return f\"s3://{s3bucket}/{storage_url}\"\n",
    "\n",
    "\n",
    "def get_filename(url):\n",
    "    url = \"/\".join(url.split(\"/\")[-4:])\n",
    "    return url"
   ]
  },
  {
   "cell_type": "code",
   "execution_count": 3,
   "metadata": {},
   "outputs": [],
   "source": [
    "DATA_DIR = Path(\"/Users/andrew/CTDS/misc-projects/midrc/data/\")"
   ]
  },
  {
   "cell_type": "code",
   "execution_count": 6,
   "metadata": {},
   "outputs": [],
   "source": [
    "seq_08 = pd.read_csv(\"./seq_imaging_data_manifest_2021_10_08.tsv\", sep=\"\\t\")"
   ]
  },
  {
   "cell_type": "markdown",
   "metadata": {},
   "source": [
    "# I need this:\n",
    "\n",
    "```\n",
    "guid\tmd5\tfile_name\tsize\tauthz\tacl\turls\n",
    "\tbaa99ec5ca5aedf653d623240e33d1dc\treplicated-data-rsna/midrc-ricord-2021-10-06/data/0.dcm\t8269992\t/programs/Open/projects/R1\t['R1','Open']\ts3://open-data-midrc/replicated-data-rsna/midrc-ricord-2021-10-06/data/0.dcm\n",
    "\n",
    "```"
   ]
  },
  {
   "cell_type": "code",
   "execution_count": 7,
   "metadata": {},
   "outputs": [],
   "source": [
    "manifest = pd.DataFrame()\n",
    "\n",
    "manifest[\"guid\"] = None\n",
    "manifest[\"md5\"] = seq_08[\"md5sum_x\"]\n",
    "manifest[\"file_name\"] = seq_08[\"storage_urls_x\"].apply(get_filename)\n",
    "manifest[\"size\"] = seq_08[\"file_size_x\"]\n",
    "manifest[\"authz\"] = \"/programs/SEQ_Open/projects/R3\"\n",
    "manifest[\"acl\"] = manifest.apply(lambda _: ['R3','SEQ_Open'], axis=1)\n",
    "manifest[\"urls\"] = seq_08[\"storage_urls_x\"].apply(lambda v: get_storage_url(\"sequestered-data-midrc\", v))"
   ]
  },
  {
   "cell_type": "code",
   "execution_count": 8,
   "metadata": {},
   "outputs": [],
   "source": [
    "manifest.to_csv(\"./to_index/seq_08.tsv\", sep=\"\\t\", index=False)"
   ]
  },
  {
   "cell_type": "code",
   "execution_count": 9,
   "metadata": {},
   "outputs": [],
   "source": [
    "seq_28 = pd.read_csv(\"./seq_imaging_data_manifest_2021_10_28.tsv\", sep=\"\\t\")"
   ]
  },
  {
   "cell_type": "code",
   "execution_count": 10,
   "metadata": {},
   "outputs": [],
   "source": [
    "manifest = pd.DataFrame()\n",
    "\n",
    "manifest[\"guid\"] = None\n",
    "manifest[\"md5\"] = seq_28[\"md5sum_x\"]\n",
    "manifest[\"file_name\"] = seq_28[\"storage_urls_x\"].apply(get_filename)\n",
    "manifest[\"size\"] = seq_28[\"file_size_x\"]\n",
    "manifest[\"authz\"] = \"/programs/SEQ_Open/projects/R3\"\n",
    "manifest[\"acl\"] = manifest.apply(lambda _: ['R3','SEQ_Open'], axis=1)\n",
    "manifest[\"urls\"] = seq_28[\"storage_urls_x\"].apply(lambda v: get_storage_url(\"sequestered-data-midrc\", v))"
   ]
  },
  {
   "cell_type": "code",
   "execution_count": 11,
   "metadata": {},
   "outputs": [],
   "source": [
    "manifest.to_csv(\"./to_index/seq_28.tsv\", sep=\"\\t\", index=False)"
   ]
  }
 ],
 "metadata": {
  "interpreter": {
   "hash": "48f711a9de202a538bb8007b28c346b9e106ccc6bcdbf7ef149059e83dd68df5"
  },
  "kernelspec": {
   "display_name": "Python 3.10.0 64-bit ('main': pyenv)",
   "language": "python",
   "name": "python3"
  },
  "language_info": {
   "codemirror_mode": {
    "name": "ipython",
    "version": 3
   },
   "file_extension": ".py",
   "mimetype": "text/x-python",
   "name": "python",
   "nbconvert_exporter": "python",
   "pygments_lexer": "ipython3",
   "version": "3.10.0"
  },
  "orig_nbformat": 4
 },
 "nbformat": 4,
 "nbformat_minor": 2
}
