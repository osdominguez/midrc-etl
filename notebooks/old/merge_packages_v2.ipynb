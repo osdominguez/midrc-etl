{
 "cells": [
  {
   "cell_type": "code",
   "execution_count": null,
   "metadata": {},
   "outputs": [],
   "source": [
    "import csv\n",
    "import json\n",
    "import pathlib\n",
    "from collections import defaultdict\n",
    "csv.field_size_limit(sys.maxsize)"
   ]
  },
  {
   "cell_type": "code",
   "execution_count": null,
   "metadata": {},
   "outputs": [],
   "source": [
    "delete_studies = \"/Users/andrew/CTDS/projects/midrc/s3-data/raw/acrimage/2021/11/deletion_imaging_study_ACR_20211115.tsv\"\n",
    "\n",
    "to_delete_studies = []\n",
    "\n",
    "with open(delete_studies) as deletion:\n",
    "    tsv_reader = csv.DictReader(deletion, delimiter=\"\\t\")\n",
    "    for record in tsv_reader:\n",
    "        study_id = record[\"submitter_id\"]\n",
    "        to_delete_studies.append(study_id)"
   ]
  },
  {
   "cell_type": "code",
   "execution_count": null,
   "metadata": {},
   "outputs": [],
   "source": [
    "delete_studies = \"/Users/andrew/CTDS/projects/midrc/s3-data/raw/acrimage/2021/11/RemoveHeadsFrom20211004.txt\"\n",
    "\n",
    "with open(delete_studies) as deletion:\n",
    "    tsv_reader = csv.DictReader(deletion, delimiter=\"\\t\")\n",
    "    for record in tsv_reader:\n",
    "        study_id = record[\"submitter_id\"].split(\"_\")[1]\n",
    "        to_delete_studies.append(study_id)"
   ]
  },
  {
   "cell_type": "code",
   "execution_count": null,
   "metadata": {},
   "outputs": [],
   "source": [
    "all_packages = []\n",
    "with open(\"all_packages.tsv\") as all_packages_file:\n",
    "    tsv_reader = csv.DictReader(all_packages_file, delimiter=\"\\t\", quotechar='', quoting=csv.QUOTE_NONE)\n",
    "    for record in tsv_reader:\n",
    "        filename = record[\"file_name\"].split(\"/\")[0]\n",
    "        if filename in to_delete_studies:\n",
    "            print(filename)\n",
    "            continue\n",
    "        all_packages.append(record)"
   ]
  },
  {
   "cell_type": "code",
   "execution_count": null,
   "metadata": {},
   "outputs": [],
   "source": [
    "with open(\"all_packages_submit.tsv\", \"w\") as all_packages_file:\n",
    "    fieldnames = ['record_type', 'guid', 'md5', 'size', 'authz', 'url', 'file_name', 'package_contents']\n",
    "    tsv_writer = csv.DictWriter(all_packages_file, delimiter=\"\\t\", quotechar='', quoting=csv.QUOTE_NONE, fieldnames=fieldnames)\n",
    "    tsv_writer.writeheader()\n",
    "\n",
    "    for package in all_packages:\n",
    "        tsv_writer.writerow(package)"
   ]
  },
  {
   "cell_type": "code",
   "execution_count": null,
   "metadata": {},
   "outputs": [],
   "source": [
    "sequestration_filename = \"/Users/andrew/CTDS/midrc-etl/v2/sequestration/ACR_November_imaging_studies_split/imaging_study_sequestration_location.tsv\"\n",
    "\n",
    "datasets = {}\n",
    "\n",
    "with open(sequestration_filename) as sequestration_file:\n",
    "    tsv_reader = csv.DictReader(sequestration_file, delimiter=\"\\t\")\n",
    "\n",
    "    for record in tsv_reader:\n",
    "        datasets[record[\"submitter_id\"]] = record[\"dataset\"]"
   ]
  },
  {
   "cell_type": "code",
   "execution_count": null,
   "metadata": {},
   "outputs": [],
   "source": [
    "packages_filename = \"/Users/andrew/CTDS/midrc-etl/v2/all_packages_submit.tsv\"\n",
    "\n",
    "with open(packages_filename) as packages_file:\n",
    "    tsv_reader = csv.DictReader(packages_file, delimiter=\"\\t\")\n",
    "\n",
    "    with open(\"all_packages_seq.tsv\", \"w\") as all_packages_file:\n",
    "        fieldnames = ['record_type', 'dataset', 'guid', 'md5', 'size', 'authz', 'url', 'file_name', 'package_contents']\n",
    "        tsv_writer = csv.DictWriter(all_packages_file, delimiter=\"\\t\", quotechar='', quoting=csv.QUOTE_NONE, fieldnames=fieldnames)\n",
    "        tsv_writer.writeheader()\n",
    "\n",
    "        for record in tsv_reader:\n",
    "            study_id = record[\"file_name\"].split(\"/\")[0]\n",
    "\n",
    "            r = record\n",
    "            r[\"dataset\"] = datasets[study_id]\n",
    "\n",
    "            tsv_writer.writerow(r)"
   ]
  },
  {
   "cell_type": "code",
   "execution_count": null,
   "metadata": {},
   "outputs": [],
   "source": [
    "packages_filename = \"/Users/andrew/CTDS/midrc-etl/v2/all_packages_submit.tsv\"\n",
    "\n",
    "with open(packages_filename) as packages_file:\n",
    "    tsv_reader = csv.DictReader(packages_file, delimiter=\"\\t\")\n",
    "\n",
    "    with open(\"to_index_OPEN_imaging_study_ACR_20211115.tsv.tsv\", \"w\") as all_packages_file:\n",
    "        fieldnames = ['record_type', 'guid', 'md5', 'size', 'authz', 'url', 'file_name', 'package_contents']\n",
    "        tsv_writer = csv.DictWriter(all_packages_file, delimiter=\"\\t\", quotechar='', quoting=csv.QUOTE_NONE, fieldnames=fieldnames)\n",
    "        tsv_writer.writeheader()\n",
    "\n",
    "        for record in tsv_reader:\n",
    "            study_id = record[\"file_name\"].split(\"/\")[0]\n",
    "\n",
    "            if datasets[study_id] == \"Open\":\n",
    "                tsv_writer.writerow(record)"
   ]
  },
  {
   "cell_type": "code",
   "execution_count": null,
   "metadata": {},
   "outputs": [],
   "source": [
    "packages_filename = \"/Users/andrew/CTDS/midrc-etl/v2/all_packages_submit.tsv\"\n",
    "\n",
    "with open(packages_filename) as packages_file:\n",
    "    tsv_reader = csv.DictReader(packages_file, delimiter=\"\\t\")\n",
    "\n",
    "    with open(\"to_index_SEQ_imaging_study_ACR_20211115.tsv.tsv\", \"w\") as all_packages_file:\n",
    "        fieldnames = ['record_type', 'guid', 'md5', 'size', 'authz', 'url', 'file_name', 'package_contents']\n",
    "        tsv_writer = csv.DictWriter(all_packages_file, delimiter=\"\\t\", quotechar='', quoting=csv.QUOTE_NONE, fieldnames=fieldnames)\n",
    "        tsv_writer.writeheader()\n",
    "\n",
    "        for record in tsv_reader:\n",
    "            study_id = record[\"file_name\"].split(\"/\")[0]\n",
    "\n",
    "            if datasets[study_id] == \"Seq\":\n",
    "                tsv_writer.writerow(record)"
   ]
  },
  {
   "cell_type": "code",
   "execution_count": null,
   "metadata": {},
   "outputs": [],
   "source": [
    "with open(\"indexed_OPEN_imaging_study_ACR_20211115.tsv\") as f:\n",
    "    tsv_reader = csv.DictReader(f, delimiter=\"\\t\")\n",
    "    with open(\"to_index_OPEN_imaging_study_ACR_20211115.tsv.tsv\", \"w\") as all_packages_file:\n",
    "        fieldnames = ['record_type', 'guid', 'md5', 'size', 'authz', 'urls', 'file_name', 'package_contents']\n",
    "        tsv_writer = csv.DictWriter(all_packages_file, delimiter=\"\\t\", quotechar='', quoting=csv.QUOTE_NONE, fieldnames=fieldnames)\n",
    "        tsv_writer.writeheader()\n",
    "\n",
    "        for record in tsv_reader:\n",
    "            record[\"authz\"] = '[\"/programs/Open/projects/A1\"]'\n",
    "            tsv_writer.writerow(record)"
   ]
  },
  {
   "cell_type": "code",
   "execution_count": null,
   "metadata": {},
   "outputs": [],
   "source": [
    "with open(\"indexed_SEQ_imaging_study_ACR_20211115.tsv\") as f:\n",
    "    tsv_reader = csv.DictReader(f, delimiter=\"\\t\")\n",
    "    with open(\"to_index_SEQ_imaging_study_ACR_20211115.tsv\", \"w\") as all_packages_file:\n",
    "        fieldnames = ['record_type', 'guid', 'md5', 'size', 'authz', 'urls', 'file_name', 'package_contents']\n",
    "        tsv_writer = csv.DictWriter(all_packages_file, delimiter=\"\\t\", quotechar='', quoting=csv.QUOTE_NONE, fieldnames=fieldnames)\n",
    "        tsv_writer.writeheader()\n",
    "\n",
    "        for record in tsv_reader:\n",
    "            record[\"authz\"] = '[\"/programs/SEQ_Open/projects/A3\"]'\n",
    "            tsv_writer.writerow(record)"
   ]
  }
 ],
 "metadata": {
  "interpreter": {
   "hash": "c359f1ceb7ac4c106f3d2278fbdb4d04cd26c1930f7082b5678c4b853153a35d"
  },
  "kernelspec": {
   "display_name": "Python 3.10.2 ('.venv': venv)",
   "language": "python",
   "name": "python3"
  },
  "language_info": {
   "codemirror_mode": {
    "name": "ipython",
    "version": 3
   },
   "file_extension": ".py",
   "mimetype": "text/x-python",
   "name": "python",
   "nbconvert_exporter": "python",
   "pygments_lexer": "ipython3",
   "version": "3.10.0"
  },
  "orig_nbformat": 4
 },
 "nbformat": 4,
 "nbformat_minor": 2
}
