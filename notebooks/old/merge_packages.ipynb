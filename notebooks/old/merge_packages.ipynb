{
 "cells": [
  {
   "cell_type": "code",
   "execution_count": null,
   "metadata": {},
   "outputs": [],
   "source": [
    "import csv\n",
    "import json\n",
    "import pathlib\n",
    "from collections import defaultdict\n",
    "csv.field_size_limit(sys.maxsize)"
   ]
  },
  {
   "cell_type": "code",
   "execution_count": null,
   "metadata": {},
   "outputs": [],
   "source": [
    "package_filenames = list(pathlib.Path(\"./packages/\").glob(\"*.txt\"))"
   ]
  },
  {
   "cell_type": "code",
   "execution_count": null,
   "metadata": {},
   "outputs": [],
   "source": [
    "filename = \"/Users/andrew/CTDS/projects/midrc/s3-data/raw/acrimage/2021/11/image_ACR_20211115.tsv\"\n",
    "\n",
    "series = defaultdict(list)\n",
    "\n",
    "with open(filename) as manifest_file:\n",
    "    reader = csv.DictReader(manifest_file, delimiter='\\t')\n",
    "    for row in reader:\n",
    "        series_id = row[\"series.submitter_id\"]\n",
    "        filename = row[\"file_name\"]\n",
    "\n",
    "        md5sum = row[\"mdsum\"]\n",
    "        filesize = int(row[\"file_size\"])\n",
    "\n",
    "        package_contents = {\"hashes\": {\"md5sum\": md5sum}, \"size\": filesize}\n",
    "\n",
    "        series[(series_id, filename)].append(package_contents)"
   ]
  },
  {
   "cell_type": "code",
   "execution_count": null,
   "metadata": {},
   "outputs": [],
   "source": [
    "all_packages = []\n",
    "\n",
    "for package_filename in package_filenames:\n",
    "    with open(package_filename) as package_file:\n",
    "        tsv_reader = csv.DictReader(package_file, delimiter=\"\\t\", quotechar='', quoting=csv.QUOTE_NONE)\n",
    "        for record in tsv_reader:\n",
    "            # record[\"package_contents\"] = json.dumps(json.loads(record[\"package_contents\"].replace(\"'\", \"\\\"\")))\n",
    "            record[\"package_contents\"] = json.loads(record[\"package_contents\"].replace(\"'\", \"\\\"\"))\n",
    "            all_packages.append(record)"
   ]
  },
  {
   "cell_type": "code",
   "execution_count": null,
   "metadata": {},
   "outputs": [],
   "source": [
    "all_packages_filled = []\n",
    "\n",
    "for package in all_packages:\n",
    "    series_id = package[\"file_name\"].split(\"/\")[1].rsplit(\".\", 1)[0]\n",
    "\n",
    "    for pc in package[\"package_contents\"]:\n",
    "        fname = pc[\"file_name\"].split(\"/\")[1]\n",
    "        pc.update(series[(series_id, fname)][0])\n",
    "    \n",
    "    package[\"package_contents\"] = json.dumps(package[\"package_contents\"])\n",
    "    all_packages_filled.append(package)"
   ]
  },
  {
   "cell_type": "code",
   "execution_count": null,
   "metadata": {},
   "outputs": [],
   "source": [
    "with open(\"all_packages.tsv\", \"w\") as all_packages_file:\n",
    "    fieldnames = ['record_type', 'guid', 'md5', 'size', 'authz', 'url', 'file_name', 'package_contents']\n",
    "    tsv_writer = csv.DictWriter(all_packages_file, delimiter=\"\\t\", quotechar='', quoting=csv.QUOTE_NONE, fieldnames=fieldnames)\n",
    "    tsv_writer.writeheader()\n",
    "\n",
    "    for package in all_packages_filled:\n",
    "        tsv_writer.writerow(package)"
   ]
  }
 ],
 "metadata": {
  "interpreter": {
   "hash": "c359f1ceb7ac4c106f3d2278fbdb4d04cd26c1930f7082b5678c4b853153a35d"
  },
  "kernelspec": {
   "display_name": "Python 3.10.2 ('.venv': venv)",
   "language": "python",
   "name": "python3"
  },
  "language_info": {
   "codemirror_mode": {
    "name": "ipython",
    "version": 3
   },
   "file_extension": ".py",
   "mimetype": "text/x-python",
   "name": "python",
   "nbconvert_exporter": "python",
   "pygments_lexer": "ipython3",
   "version": "3.10.0"
  },
  "orig_nbformat": 4
 },
 "nbformat": 4,
 "nbformat_minor": 2
}
