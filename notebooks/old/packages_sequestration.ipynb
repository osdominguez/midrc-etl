{
 "cells": [
  {
   "cell_type": "code",
   "execution_count": null,
   "metadata": {},
   "outputs": [],
   "source": [
    "import csv\n",
    "csv.field_size_limit(sys.maxsize)"
   ]
  },
  {
   "cell_type": "code",
   "execution_count": null,
   "metadata": {},
   "outputs": [],
   "source": [
    "sequestration_filename = \"/Users/andrew/CTDS/midrc-etl/v2/sequestration/ACR_November_imaging_studies_split/imaging_study_sequestration_location.tsv\"\n",
    "\n",
    "datasets = {}\n",
    "\n",
    "with open(sequestration_filename) as sequestration_file:\n",
    "    tsv_reader = csv.DictReader(sequestration_file, delimiter=\"\\t\")\n",
    "\n",
    "    for record in tsv_reader:\n",
    "        datasets[record[\"submitter_id\"]] = record[\"dataset\"]"
   ]
  },
  {
   "cell_type": "code",
   "execution_count": null,
   "metadata": {},
   "outputs": [],
   "source": [
    "packages_filename = \"/Users/andrew/CTDS/midrc-etl/v2/all_packages_submit.tsv\"\n",
    "\n",
    "with open(packages_filename) as packages_file:\n",
    "    tsv_reader = csv.DictReader(packages_file, delimiter=\"\\t\")\n",
    "\n",
    "    with open(\"all_packages_seq.tsv\", \"w\") as all_packages_file:\n",
    "        fieldnames = ['record_type', 'dataset', 'guid', 'md5', 'size', 'authz', 'url', 'file_name', 'package_contents']\n",
    "        tsv_writer = csv.DictWriter(all_packages_file, delimiter=\"\\t\", quotechar='', quoting=csv.QUOTE_NONE, fieldnames=fieldnames)\n",
    "        tsv_writer.writeheader()\n",
    "\n",
    "        for record in tsv_reader:\n",
    "            study_id = record[\"file_name\"].split(\"/\")[0]\n",
    "\n",
    "            r = record\n",
    "            r[\"dataset\"] = datasets[study_id]\n",
    "\n",
    "            tsv_writer.writerow(r)"
   ]
  }
 ],
 "metadata": {
  "interpreter": {
   "hash": "c359f1ceb7ac4c106f3d2278fbdb4d04cd26c1930f7082b5678c4b853153a35d"
  },
  "kernelspec": {
   "display_name": "Python 3.10.2 ('.venv': venv)",
   "language": "python",
   "name": "python3"
  },
  "language_info": {
   "codemirror_mode": {
    "name": "ipython",
    "version": 3
   },
   "file_extension": ".py",
   "mimetype": "text/x-python",
   "name": "python",
   "nbconvert_exporter": "python",
   "pygments_lexer": "ipython3",
   "version": "3.10.0"
  },
  "orig_nbformat": 4
 },
 "nbformat": 4,
 "nbformat_minor": 2
}
