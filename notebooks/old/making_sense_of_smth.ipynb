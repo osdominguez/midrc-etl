{
 "cells": [
  {
   "cell_type": "code",
   "execution_count": null,
   "metadata": {},
   "outputs": [],
   "source": [
    "from pathlib import Path\n",
    "\n",
    "import pandas as pd"
   ]
  },
  {
   "cell_type": "code",
   "execution_count": null,
   "metadata": {},
   "outputs": [],
   "source": [
    "DATA_DIR = Path(\"/Users/andrew/CTDS/misc-projects/midrc/data/\")"
   ]
  },
  {
   "cell_type": "code",
   "execution_count": null,
   "metadata": {},
   "outputs": [],
   "source": [
    "paths = {\n",
    "    \"midrc-ricord-2021-10-06\": {\n",
    "        \"dir\": \"s3-data/rsna/midrc-ricord-2021-10-06/\",\n",
    "        \"imaging_data_manifest\": \"imaging_data_manifest_2021_10_08.tsv\",\n",
    "        \"other_files\": [\n",
    "            \"midrc_ct_instance_419639-2021-10-13.tsv\",\n",
    "            \"midrc_cr_instance_419639-2021-10-13.tsv\",\n",
    "            \"midrc_dx_instance_419639-2021-10-13.tsv\",\n",
    "        ],\n",
    "        \"open_file\": \"../../../sequestered-data-split/open_rsna_uniq.txt\",\n",
    "        \"seq_file\": \"../../../sequestered-data-split/seq_rsna_uniq.txt\",\n",
    "    },\n",
    "    \"midrc-ricord-2021-10-26\": {\n",
    "        \"dir\": \"s3-data/rsna/midrc-ricord-2021-10-26/\",\n",
    "        \"imaging_data_manifest\": \"imaging_data_manifest_2021_10_28.tsv\",\n",
    "        \"other_files\": [\n",
    "            \"midrc_cr_instance_419639-2021-10-29.tsv\",\n",
    "            \"midrc_ct_instance_419639-2021-10-29.tsv\",\n",
    "            \"midrc_mr_instance_419639-2021-10-29.tsv\",\n",
    "            \"midrc_dx_instance_419639-2021-10-29.tsv\",\n",
    "        ],\n",
    "        \"open_file\": \"../../../sequestered-data-split/open_rsna_uniq.txt\",\n",
    "        \"seq_file\": \"../../../sequestered-data-split/seq_rsna_uniq.txt\",\n",
    "    },\n",
    "}"
   ]
  },
  {
   "cell_type": "code",
   "execution_count": null,
   "metadata": {},
   "outputs": [],
   "source": [
    "def split_seq(input_dict):\n",
    "    dir = DATA_DIR.joinpath(input_dict[\"dir\"])\n",
    "\n",
    "    imaging_data_manifest_file = dir.joinpath(input_dict[\"imaging_data_manifest\"])\n",
    "    other_files = [dir.joinpath(v) for v in input_dict[\"other_files\"]]\n",
    "    open_file = dir.joinpath(input_dict[\"open_file\"])\n",
    "    seq_file = dir.joinpath(input_dict[\"seq_file\"])\n",
    "\n",
    "    imaging_data_manifest = pd.read_csv(imaging_data_manifest_file, sep=\"\\t\").reset_index(drop=True)\n",
    "    instances = []\n",
    "\n",
    "    for f in other_files:\n",
    "        data = pd.read_csv(f, sep=\"\\t\")\n",
    "        instances.append(data)\n",
    "\n",
    "    files = pd.concat(instances).sort_values(by=\"file_name\").reset_index(drop=True)\n",
    "    open = pd.read_csv(open_file)\n",
    "    open[\"status\"] = \"open\"\n",
    "    seq = pd.read_csv(seq_file)\n",
    "    seq[\"status\"] = \"seq\"\n",
    "    \n",
    "    status_files = pd.concat([open, seq])\n",
    "\n",
    "    move_files = imaging_data_manifest.merge(files, on=\"file_name\")[[\"file_name\", \"case_ids\", \"file_size_x\", \"md5sum_x\", \"storage_urls_x\"]]\n",
    "\n",
    "    all_files = pd.merge(status_files, move_files, how=\"right\", on=\"case_ids\")\n",
    "    all_files.loc[all_files[\"status\"].isna(), \"status\"] = \"open\"\n",
    "\n",
    "    open_files = all_files.loc[all_files[\"status\"] == \"open\"]\n",
    "    seq_files = all_files.loc[all_files[\"status\"] == \"seq\"]\n",
    "\n",
    "    open_files.to_csv(Path(imaging_data_manifest_file).name.replace(\"imaging_data_manifest\", \"open_imaging_data_manifest\"), sep=\"\\t\", index=None)\n",
    "    seq_files.to_csv(Path(imaging_data_manifest_file).name.replace(\"imaging_data_manifest\", \"seq_imaging_data_manifest\"), sep=\"\\t\", index=None)\n",
    "\n",
    "    raw_open_files = open_files[\"storage_urls_x\"]\n",
    "    raw_open_files = raw_open_files.str.replace(\"s3://storage.ir.rsna.ai/\", \"\", regex=False)\n",
    "    raw_open_files.to_csv(Path(imaging_data_manifest_file).name.replace(\"imaging_data_manifest\", \"raw_open_imaging_data_manifest\"), index=None, header=None)\n",
    "    raw_seq_files = seq_files[\"storage_urls_x\"]\n",
    "    raw_seq_files = raw_seq_files.str.replace(\"s3://storage.ir.rsna.ai/\", \"\", regex=False)\n",
    "    raw_seq_files.to_csv(Path(imaging_data_manifest_file).name.replace(\"imaging_data_manifest\", \"raw_seq_imaging_data_manifest\"), index=None, header=None)"
   ]
  },
  {
   "cell_type": "code",
   "execution_count": null,
   "metadata": {},
   "outputs": [],
   "source": [
    "split_seq(paths[\"midrc-ricord-2021-10-06\"])\n",
    "split_seq(paths[\"midrc-ricord-2021-10-26\"])"
   ]
  },
  {
   "cell_type": "code",
   "execution_count": null,
   "metadata": {},
   "outputs": [],
   "source": [
    "leftover = pd.merge(files.file_name, imaging_data_manifest.file_name, how='right', indicator=True)\n",
    "\n",
    "leftover[leftover['_merge'] == 'right_only'][\"file_name\"]"
   ]
  }
 ],
 "metadata": {
  "interpreter": {
   "hash": "48f711a9de202a538bb8007b28c346b9e106ccc6bcdbf7ef149059e83dd68df5"
  },
  "kernelspec": {
   "display_name": "Python 3.10.0 64-bit ('main': pyenv)",
   "language": "python",
   "name": "python3"
  },
  "language_info": {
   "codemirror_mode": {
    "name": "ipython",
    "version": 3
   },
   "file_extension": ".py",
   "mimetype": "text/x-python",
   "name": "python",
   "nbconvert_exporter": "python",
   "pygments_lexer": "ipython3",
   "version": "3.10.0"
  },
  "orig_nbformat": 4
 },
 "nbformat": 4,
 "nbformat_minor": 2
}
