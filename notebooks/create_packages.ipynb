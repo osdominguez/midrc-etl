{
 "cells": [
  {
   "cell_type": "code",
   "execution_count": null,
   "metadata": {},
   "outputs": [],
   "source": [
    "import csv\n",
    "import re\n",
    "from pathlib import Path\n",
    "\n",
    "import pandas as pd\n",
    "\n",
    "pd.set_option(\"display.max_colwidth\", None)"
   ]
  },
  {
   "cell_type": "code",
   "execution_count": null,
   "metadata": {},
   "outputs": [],
   "source": [
    "SUBMISSIONS = [\n",
    "    \"RSNA_20220228\",\n",
    "    \"RSNA_20220308\",\n",
    "    \"RSNA_20220314\",\n",
    "]"
   ]
  },
  {
   "cell_type": "code",
   "execution_count": null,
   "metadata": {},
   "outputs": [],
   "source": [
    "print(SUBMISSION)\n",
    "PACKAGES_PATH = Path(f\"/Users/andrewprokhorenkov/CTDS/projects/midrc/indexing-data/packages_rsna/packages_{SUBMISSION}\")\n",
    "PACKAGES_PATH.mkdir(parents=True, exist_ok=True)"
   ]
  },
  {
   "cell_type": "code",
   "execution_count": null,
   "metadata": {},
   "outputs": [],
   "source": [
    "def process_submission(SUBMISSION):\n",
    "    # useful paths for data manipulation\n",
    "    print(SUBMISSION)\n",
    "    PACKAGES_PATH = Path(f\"/Users/andrewprokhorenkov/CTDS/projects/midrc/indexing-data/packages_rsna/packages_{SUBMISSION}\")\n",
    "    PACKAGES_PATH.mkdir(parents=True, exist_ok=True)\n",
    "\n",
    "    RSNA_PATH = Path(\"/Users/andrewprokhorenkov/CTDS/projects/midrc/midrc_indexing_scripts/midrc-ricord-2021-08-20/image_file_manifest_RSNA_20210820.tsv\")\n",
    "\n",
    "    list_of_packages = []\n",
    "\n",
    "    image_file_manifest = pd.read_csv(RSNA_PATH, sep=\"\\t\")\n",
    "\n",
    "    rename_columns = {\n",
    "        \"case_ids\": \"case_id\",\n",
    "        \"study_uid\": \"study_id\",\n",
    "        \"series_uid\": \"series_id\",\n",
    "        \"submitter_id\": \"instance_id\",\n",
    "    }\n",
    "\n",
    "    image_file_manifest = image_file_manifest.rename(columns=rename_columns)\n",
    "    image_file_manifest = image_file_manifest.drop(columns=[\"modality\"])\n",
    "    image_file_manifest[\"instance_id\"] = image_file_manifest[\"instance_id\"].apply(lambda v: v.split(\"_\")[1])\n",
    "\n",
    "    for _, row in image_file_manifest.iterrows():\n",
    "        case_id = row[\"case_id\"]\n",
    "        study_id = row[\"study_id\"]\n",
    "        series_id = row[\"series_id\"]\n",
    "        # instance_id = row[\"instance_id\"]\n",
    "\n",
    "        series_path = f\"./cases/{case_id}/{study_id}/{series_id}.tsv\\n\"\n",
    "        if series_path not in list_of_packages:\n",
    "            list_of_packages.append(series_path)\n",
    "\n",
    "        folder = PACKAGES_PATH / \"cases\" / case_id / study_id\n",
    "\n",
    "        folder.mkdir(parents=True, exist_ok=True)\n",
    "        \n",
    "        series_file = folder / f\"{series_id}.tsv\"\n",
    "        series_file_exist = series_file.exists()\n",
    "\n",
    "        with open(series_file, mode=\"a\") as f:\n",
    "            fieldnames = [\"file_name\", \"file_size\", \"md5sum\", \"case_id\", \"study_id\", \"series_id\", \"instance_id\", \"storage_urls\"]\n",
    "            writer = csv.DictWriter(f, delimiter=\"\\t\", fieldnames=fieldnames)\n",
    "\n",
    "            if not series_file_exist:\n",
    "                writer.writeheader()\n",
    "            writer.writerow(row.to_dict())\n",
    "\n",
    "    with open(PACKAGES_PATH / \"packages.txt\", \"w\") as f:\n",
    "        f.writelines(list_of_packages)"
   ]
  },
  {
   "cell_type": "code",
   "execution_count": null,
   "metadata": {},
   "outputs": [],
   "source": [
    "for SUBMISSION in SUBMISSIONS:\n",
    "    process_submission(SUBMISSION)"
   ]
  }
 ],
 "metadata": {
  "kernelspec": {
   "display_name": "Python 3.10.4 64-bit ('main')",
   "language": "python",
   "name": "python3"
  },
  "language_info": {
   "codemirror_mode": {
    "name": "ipython",
    "version": 3
   },
   "file_extension": ".py",
   "mimetype": "text/x-python",
   "name": "python",
   "nbconvert_exporter": "python",
   "pygments_lexer": "ipython3",
   "version": "3.10.4"
  },
  "orig_nbformat": 4,
  "vscode": {
   "interpreter": {
    "hash": "868b6f95f8a89b92223df60118f35e6d1093d86a88199d026282c847e987351d"
   }
  }
 },
 "nbformat": 4,
 "nbformat_minor": 2
}
