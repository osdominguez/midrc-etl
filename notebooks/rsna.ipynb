{
 "cells": [
  {
   "cell_type": "code",
   "execution_count": null,
   "metadata": {},
   "outputs": [],
   "source": [
    "pd.set_option('display.max_colwidth', None)"
   ]
  },
  {
   "cell_type": "code",
   "execution_count": null,
   "metadata": {},
   "outputs": [],
   "source": [
    "import csv\n",
    "from pathlib import Path\n",
    "\n",
    "import pandas as pd"
   ]
  },
  {
   "cell_type": "code",
   "execution_count": null,
   "metadata": {},
   "outputs": [],
   "source": [
    "SUBMISSION = \"RSNA_20220214\"\n",
    "\n",
    "PACKAGES_PATH = Path(f\"/Users/andrewprokhorenkov/CTDS/projects/midrc/midrc_indexing_scripts/packages/packages_{SUBMISSION}\")\n",
    "PACKAGES_PATH.mkdir(parents=True, exist_ok=True)\n",
    "\n",
    "RSNA_PATH = Path(\"/Users/andrewprokhorenkov/CTDS/projects/midrc/s3-data/raw/rsna\")\n",
    "SUBMISSION_PATH = RSNA_PATH / SUBMISSION\n",
    "\n",
    "manifest_file = list(SUBMISSION_PATH.glob(\"imaging_data_manifest_*.tsv\"))[0]\n",
    "instance_files = list(SUBMISSION_PATH.glob(\"*_instance_*.tsv\"))\n",
    "# instance_files = list(SUBMISSION_PATH.glob(\"midrc_*_instance_*.tsv\"))\n",
    "# instance_files = list(SUBMISSION_PATH.glob(\"midrc_*_image_*.tsv\"))\n",
    "studies_file = list(SUBMISSION_PATH.glob(\"imaging_study_*.tsv\"))[0]\n",
    "# studies_file = list(SUBMISSION_PATH.glob(\"midrc_imaging_study_*.tsv\"))[0]\n",
    "\n",
    "manifest = pd.read_csv(manifest_file, sep=\"\\t\")\n",
    "\n",
    "instances = list(map(lambda v: pd.read_csv(v, sep=\"\\t\"), instance_files))\n",
    "\n",
    "rename_columns = {'cr_series.submitter_id': 'series_id',\n",
    "'dx_series.submitter_id': 'series_id',\n",
    "'ct_series.submitter_id': 'series_id',\n",
    "'mr_series.submitter_id': 'series_id'}\n",
    "\n",
    "instances = list(map(lambda v: v.rename(columns=rename_columns), instances))\n",
    "\n",
    "all_instances = pd.concat(instances)\n",
    "\n",
    "studies = pd.read_csv(studies_file, sep=\"\\t\")\n",
    "studies[\"case_id\"] = studies[\"cases.submitter_id\"]\n",
    "# studies[\"case_id\"] = studies[\"cases.submitter_id\"].apply(lambda v: v.split(\"_\")[1])\n",
    "# studies[\"case_id\"] = studies[\"cases\"].apply(lambda v: v.split(\"_\")[1])\n",
    "\n",
    "merged = manifest.merge(all_instances, how=\"inner\", on=\"md5sum\", suffixes=[\"\", \"_y\"])\n",
    "\n",
    "merged[\"case_id\"] = merged[\"case_ids\"]\n",
    "# merged[\"case_id\"] = merged[\"case_ids\"].apply(lambda v: v.split(\"_\")[1])\n",
    "merged[\"instance_id\"] = merged[\"submitter_id\"]\n",
    "\n",
    "# merged[\"case_id\"] = merged[\"instance.submitter_id\"].apply(lambda v: v.split(\"_\")[2])\n",
    "# merged[\"series_id\"] = merged[\"instance.submitter_id\"].apply(lambda v: v.split(\"_\")[3])\n",
    "# merged[\"instance_id\"] = merged[\"submitter_id\"].apply(lambda v: v.split(\"_\")[3])\n",
    "\n",
    "# merged[\"case_id\"] = merged[\"submitter_id\"].apply(lambda v: v.split(\"_\")[0])\n",
    "# merged[\"series_id\"] = merged[\"series_uid\"]\n",
    "# merged[\"instance_id\"] = merged[\"submitter_id\"].apply(lambda v: v.split(\"_\")[1])\n",
    "\n",
    "merged[\"file_name\"] = merged[\"instance_id\"].apply(lambda v: f\"{v}.dcm\")"
   ]
  },
  {
   "cell_type": "code",
   "execution_count": null,
   "metadata": {},
   "outputs": [],
   "source": [
    "merged.columns"
   ]
  },
  {
   "cell_type": "code",
   "execution_count": null,
   "metadata": {},
   "outputs": [],
   "source": [
    "studies.columns"
   ]
  },
  {
   "cell_type": "code",
   "execution_count": null,
   "metadata": {},
   "outputs": [],
   "source": [
    "merged.iloc[0]"
   ]
  },
  {
   "cell_type": "code",
   "execution_count": null,
   "metadata": {},
   "outputs": [],
   "source": [
    "merged_final = merged.reset_index().merge(studies.reset_index(), on=\"case_id\", suffixes=[\"\", \"_y\"])\n",
    "\n",
    "merged_final = merged_final[[\"file_name\", \"file_size\", \"md5sum\", \"storage_urls\", \"case_id\", \"study_uid\", \"series_id\"]]\n",
    "\n",
    "merged_final"
   ]
  },
  {
   "cell_type": "code",
   "execution_count": null,
   "metadata": {},
   "outputs": [],
   "source": [
    "for i, row in merged.iterrows():\n",
    "    case_id = row[\"case_id\"]\n",
    "    study_id = row[\"study_uid\"]\n",
    "    series_id = row[\"series_id\"]\n",
    "\n",
    "    folder = PACKAGES_PATH / case_id / study_id\n",
    "\n",
    "    folder.mkdir(parents=True, exist_ok=True)\n",
    "    \n",
    "    series_file = folder / f\"{series_id}.tsv\"\n",
    "    series_file_exist = series_file.exists()\n",
    "\n",
    "    with open(series_file, mode=\"a\") as f:\n",
    "        fieldnames = ['file_name', 'file_size', 'md5sum', 'case_id', 'study_id', 'series_id', 'instance_id', 'storage_urls']\n",
    "        writer = csv.DictWriter(f, delimiter=\"\\t\", fieldnames=fieldnames)\n",
    "\n",
    "        if not series_file_exist:\n",
    "            writer.writeheader()\n",
    "        writer.writerow(row.to_dict())"
   ]
  }
 ],
 "metadata": {
  "interpreter": {
   "hash": "4788fb3d406e5627ce93ce2328ec2a20d72350bcb84a0da657cf44b605da6122"
  },
  "kernelspec": {
   "display_name": "Python 3.10.3 ('.venv': poetry)",
   "language": "python",
   "name": "python3"
  },
  "language_info": {
   "codemirror_mode": {
    "name": "ipython",
    "version": 3
   },
   "file_extension": ".py",
   "mimetype": "text/x-python",
   "name": "python",
   "nbconvert_exporter": "python",
   "pygments_lexer": "ipython3",
   "version": "3.10.3"
  },
  "orig_nbformat": 4
 },
 "nbformat": 4,
 "nbformat_minor": 2
}
