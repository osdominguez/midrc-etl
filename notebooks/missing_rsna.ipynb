{
 "cells": [
  {
   "cell_type": "code",
   "execution_count": 1,
   "metadata": {},
   "outputs": [],
   "source": [
    "from pathlib import PosixPath\n",
    "\n",
    "import pandas as pd"
   ]
  },
  {
   "cell_type": "code",
   "execution_count": 49,
   "metadata": {},
   "outputs": [],
   "source": [
    "# all_packages_filepath = \"/Users/andrewprokhorenkov/CTDS/projects/midrc/indexing-data/to_index_rsna/open/packages_open_RSNA_20211214.tsv\"\n",
    "# indexed_filepath = \"/Users/andrewprokhorenkov/CTDS/projects/midrc/indexing-data/indexed_packages_rsna/RSNA_20211214/indexed_packages_open_RSNA_20211214.tsv\"\n",
    "# all_packages_filepath = \"/Users/andrewprokhorenkov/CTDS/projects/midrc/indexing-data/to_index_rsna/open/packages_open_RSNA_20220105.tsv\"\n",
    "# indexed_filepath = \"/Users/andrewprokhorenkov/CTDS/projects/midrc/indexing-data/indexed_packages_rsna/RSNA_20220105/indexed_packages_open_RSNA_20220105.tsv\"\n",
    "# all_packages_filepath = \"/Users/andrewprokhorenkov/CTDS/projects/midrc/indexing-data/to_index_rsna/seq/packages_seq_RSNA_20211214.tsv\"\n",
    "# indexed_filepath = \"/Users/andrewprokhorenkov/CTDS/projects/midrc/indexing-data/indexed_packages_rsna/RSNA_20211214/indexed_packages_seq_RSNA_20211214.tsv\"\n",
    "all_packages_filepath = \"/Users/andrewprokhorenkov/CTDS/projects/midrc/indexing-data/to_index_rsna/seq/packages_seq_RSNA_20220105.tsv\"\n",
    "indexed_filepath = \"/Users/andrewprokhorenkov/CTDS/projects/midrc/indexing-data/indexed_packages_rsna/RSNA_20220105/indexed_packages_seq_RSNA_20220105.tsv\"\n",
    "\n",
    "indexed = pd.read_csv(indexed_filepath, sep=\"\\t\")\n",
    "all_packages = pd.read_csv(all_packages_filepath, sep=\"\\t\")\n",
    "all_packages = all_packages.drop(\"guid\", axis=1)\n",
    "\n",
    "data = all_packages.merge(indexed, on=['record_type', 'md5', 'size', 'authz', 'urls', 'file_name', 'package_contents'], how=\"left\")\n",
    "\n",
    "data[data[\"guid\"].isnull()].to_csv(\"~/Downloads/index_rsna_seq_RSNA_20220105.tsv\", sep=\"\\t\", index=False)"
   ]
  }
 ],
 "metadata": {
  "interpreter": {
   "hash": "d5c72d1243d6df0c85fac95eab025b92ad6f1709943deea63d571be8293a3eb7"
  },
  "kernelspec": {
   "display_name": "Python 3.10.3 64-bit ('midrc-etl')",
   "language": "python",
   "name": "python3"
  },
  "language_info": {
   "codemirror_mode": {
    "name": "ipython",
    "version": 3
   },
   "file_extension": ".py",
   "mimetype": "text/x-python",
   "name": "python",
   "nbconvert_exporter": "python",
   "pygments_lexer": "ipython3",
   "version": "3.10.3"
  },
  "orig_nbformat": 4
 },
 "nbformat": 4,
 "nbformat_minor": 2
}
